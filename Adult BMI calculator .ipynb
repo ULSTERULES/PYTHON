{
 "cells": [
  {
   "cell_type": "code",
   "execution_count": 42,
   "metadata": {},
   "outputs": [],
   "source": [
    "# Adult BMI Calculator\n",
    "\n",
    "name1 = \"Chris\"\n",
    "height_m1 = 1.88\n",
    "weight_kg1 = 89\n",
    "\n",
    "name2 = \"Max\"\n",
    "height_m2 = 1.2\n",
    "weight_kg2 = 35\n",
    "\n",
    "name3 = \"Fred\"\n",
    "height_m3 = 0.8\n",
    "weight_kg3 = 27"
   ]
  },
  {
   "cell_type": "code",
   "execution_count": 41,
   "metadata": {},
   "outputs": [],
   "source": [
    "def bmi_calculator (name, height_m, weight_kg):\n",
    "    bmi = weight_kg / (height_m ** 2)\n",
    "    print (\"bmi: \")\n",
    "    print (bmi)\n",
    "    if bmi > 25:\n",
    "        return name + \" is overweight\"\n",
    "    else:\n",
    "        return name + \" is not overweight\""
   ]
  },
  {
   "cell_type": "code",
   "execution_count": 39,
   "metadata": {},
   "outputs": [
    {
     "name": "stdout",
     "output_type": "stream",
     "text": [
      "bmi: \n",
      "25.18107741059303\n",
      "bmi: \n",
      "24.305555555555557\n",
      "bmi: \n",
      "42.18749999999999\n"
     ]
    }
   ],
   "source": [
    "result1 = bmi_calculator(name1, height_m1, weight_kg1)\n",
    "result2 = bmi_calculator(name2, height_m2, weight_kg2)\n",
    "result3 = bmi_calculator(name3, height_m3, weight_kg3)"
   ]
  },
  {
   "cell_type": "code",
   "execution_count": 40,
   "metadata": {
    "scrolled": true
   },
   "outputs": [
    {
     "name": "stdout",
     "output_type": "stream",
     "text": [
      "Chris is overweight\n",
      "Max is not overweight\n",
      "Fred is overweight\n"
     ]
    }
   ],
   "source": [
    "print(result1)\n",
    "print(result2)\n",
    "print(result3)"
   ]
  },
  {
   "cell_type": "code",
   "execution_count": null,
   "metadata": {},
   "outputs": [],
   "source": []
  }
 ],
 "metadata": {
  "kernelspec": {
   "display_name": "Python 3",
   "language": "python",
   "name": "python3"
  },
  "language_info": {
   "codemirror_mode": {
    "name": "ipython",
    "version": 3
   },
   "file_extension": ".py",
   "mimetype": "text/x-python",
   "name": "python",
   "nbconvert_exporter": "python",
   "pygments_lexer": "ipython3",
   "version": "3.8.3"
  }
 },
 "nbformat": 4,
 "nbformat_minor": 4
}
